{
 "cells": [
  {
   "cell_type": "code",
   "execution_count": 1,
   "id": "7affb7e1",
   "metadata": {},
   "outputs": [
    {
     "ename": "ModuleNotFoundError",
     "evalue": "No module named 'telegram'",
     "output_type": "error",
     "traceback": [
      "\u001b[1;31m---------------------------------------------------------------------------\u001b[0m",
      "\u001b[1;31mModuleNotFoundError\u001b[0m                       Traceback (most recent call last)",
      "Cell \u001b[1;32mIn[1], line 1\u001b[0m\n\u001b[1;32m----> 1\u001b[0m \u001b[38;5;28;01mfrom\u001b[39;00m \u001b[38;5;21;01mtelegram\u001b[39;00m \u001b[38;5;28;01mimport\u001b[39;00m InlineKeyboardButton, InlineKeyboardMarkup\n",
      "\u001b[1;31mModuleNotFoundError\u001b[0m: No module named 'telegram'"
     ]
    }
   ],
   "source": [
    "from telegram import InlineKeyboardButton, InlineKeyboardMarkup"
   ]
  },
  {
   "cell_type": "code",
   "execution_count": 3,
   "id": "b188120e",
   "metadata": {},
   "outputs": [
    {
     "ename": "SyntaxError",
     "evalue": "invalid syntax (3426351667.py, line 1)",
     "output_type": "error",
     "traceback": [
      "\u001b[1;36m  Cell \u001b[1;32mIn[3], line 1\u001b[1;36m\u001b[0m\n\u001b[1;33m    pip3 install python-telegram-bot\u001b[0m\n\u001b[1;37m         ^\u001b[0m\n\u001b[1;31mSyntaxError\u001b[0m\u001b[1;31m:\u001b[0m invalid syntax\n"
     ]
    }
   ],
   "source": [
    "pip3 install python-telegram-bot\n",
    "pip3 install python-telegram-bot\n"
   ]
  },
  {
   "cell_type": "code",
   "execution_count": 5,
   "id": "91f959d9",
   "metadata": {},
   "outputs": [
    {
     "name": "stdout",
     "output_type": "stream",
     "text": [
      "Requirement already satisfied: python-telegram-bot in c:\\users\\91917\\anaconda3\\lib\\site-packages (21.7)\n",
      "Requirement already satisfied: httpx~=0.27 in c:\\users\\91917\\anaconda3\\lib\\site-packages (from python-telegram-bot) (0.28.0)\n",
      "Requirement already satisfied: certifi in c:\\users\\91917\\anaconda3\\lib\\site-packages (from httpx~=0.27->python-telegram-bot) (2024.2.2)\n",
      "Requirement already satisfied: httpcore==1.* in c:\\users\\91917\\anaconda3\\lib\\site-packages (from httpx~=0.27->python-telegram-bot) (1.0.7)\n",
      "Requirement already satisfied: anyio in c:\\users\\91917\\anaconda3\\lib\\site-packages (from httpx~=0.27->python-telegram-bot) (3.5.0)\n",
      "Requirement already satisfied: idna in c:\\users\\91917\\anaconda3\\lib\\site-packages (from httpx~=0.27->python-telegram-bot) (3.4)\n",
      "Requirement already satisfied: h11<0.15,>=0.13 in c:\\users\\91917\\anaconda3\\lib\\site-packages (from httpcore==1.*->httpx~=0.27->python-telegram-bot) (0.14.0)\n",
      "Requirement already satisfied: sniffio>=1.1 in c:\\users\\91917\\anaconda3\\lib\\site-packages (from anyio->httpx~=0.27->python-telegram-bot) (1.2.0)\n",
      "Note: you may need to restart the kernel to use updated packages.\n"
     ]
    }
   ],
   "source": [
    "pip install python-telegram-bot\n"
   ]
  },
  {
   "cell_type": "code",
   "execution_count": 6,
   "id": "a06b12a1",
   "metadata": {},
   "outputs": [
    {
     "ename": "SyntaxError",
     "evalue": "invalid syntax (2176987046.py, line 1)",
     "output_type": "error",
     "traceback": [
      "\u001b[1;36m  Cell \u001b[1;32mIn[6], line 1\u001b[1;36m\u001b[0m\n\u001b[1;33m    python -c \"import telegram; print('Library installed successfully')\"\u001b[0m\n\u001b[1;37m              ^\u001b[0m\n\u001b[1;31mSyntaxError\u001b[0m\u001b[1;31m:\u001b[0m invalid syntax\n"
     ]
    }
   ],
   "source": [
    "python -c \"import telegram; print('Library installed successfully')\"\n"
   ]
  },
  {
   "cell_type": "code",
   "execution_count": 7,
   "id": "f1c33d87",
   "metadata": {},
   "outputs": [],
   "source": [
    "from telegram import InlineKeyboardButton, InlineKeyboardMarkup\n",
    "from telegram.ext import Updater, CommandHandler"
   ]
  },
  {
   "cell_type": "code",
   "execution_count": 9,
   "id": "1dec32f2",
   "metadata": {},
   "outputs": [],
   "source": [
    "def start(update, context):\n",
    "    # Define the button\n",
    "    keyboard = [\n",
    "        [InlineKeyboardButton(\"Launch App\", url=\"https://trade.griffy.app\")]\n",
    "    ]\n",
    "    reply_markup = InlineKeyboardMarkup(keyboard)\n",
    "\n",
    "    # Send the message with the button\n",
    "    update.message.reply_text(\n",
    "        \"Welcome to our bot! Click the button below to launch the app , blah blah blah :\",\n",
    "        reply_markup=reply_markup\n",
    "    )"
   ]
  },
  {
   "cell_type": "code",
   "execution_count": 10,
   "id": "7f4df0be",
   "metadata": {},
   "outputs": [
    {
     "ename": "TypeError",
     "evalue": "Updater.__init__() got an unexpected keyword argument 'use_context'",
     "output_type": "error",
     "traceback": [
      "\u001b[1;31m---------------------------------------------------------------------------\u001b[0m",
      "\u001b[1;31mTypeError\u001b[0m                                 Traceback (most recent call last)",
      "Cell \u001b[1;32mIn[10], line 15\u001b[0m\n\u001b[0;32m     12\u001b[0m     updater\u001b[38;5;241m.\u001b[39midle()\n\u001b[0;32m     14\u001b[0m \u001b[38;5;28;01mif\u001b[39;00m \u001b[38;5;18m__name__\u001b[39m \u001b[38;5;241m==\u001b[39m \u001b[38;5;124m\"\u001b[39m\u001b[38;5;124m__main__\u001b[39m\u001b[38;5;124m\"\u001b[39m:\n\u001b[1;32m---> 15\u001b[0m     \u001b[43mmain\u001b[49m\u001b[43m(\u001b[49m\u001b[43m)\u001b[49m\n",
      "Cell \u001b[1;32mIn[10], line 4\u001b[0m, in \u001b[0;36mmain\u001b[1;34m()\u001b[0m\n\u001b[0;32m      1\u001b[0m \u001b[38;5;28;01mdef\u001b[39;00m \u001b[38;5;21mmain\u001b[39m():\n\u001b[0;32m      2\u001b[0m     \u001b[38;5;66;03m# Replace with your bot token\u001b[39;00m\n\u001b[0;32m      3\u001b[0m     TOKEN \u001b[38;5;241m=\u001b[39m \u001b[38;5;124m\"\u001b[39m\u001b[38;5;124m7574414681:AAGxV0wWdeYOxQlZptsRfu8QBfPxSOPiKkE\u001b[39m\u001b[38;5;124m\"\u001b[39m\n\u001b[1;32m----> 4\u001b[0m     updater \u001b[38;5;241m=\u001b[39m \u001b[43mUpdater\u001b[49m\u001b[43m(\u001b[49m\u001b[43mTOKEN\u001b[49m\u001b[43m,\u001b[49m\u001b[43m \u001b[49m\u001b[43muse_context\u001b[49m\u001b[38;5;241;43m=\u001b[39;49m\u001b[38;5;28;43;01mTrue\u001b[39;49;00m\u001b[43m)\u001b[49m\n\u001b[0;32m      5\u001b[0m     dp \u001b[38;5;241m=\u001b[39m updater\u001b[38;5;241m.\u001b[39mdispatcher\n\u001b[0;32m      7\u001b[0m     \u001b[38;5;66;03m# Add the /start command handler\u001b[39;00m\n",
      "\u001b[1;31mTypeError\u001b[0m: Updater.__init__() got an unexpected keyword argument 'use_context'"
     ]
    }
   ],
   "source": [
    "def main():\n",
    "    # Replace with your bot token\n",
    "    TOKEN = \"7574414681:AAGxV0wWdeYOxQlZptsRfu8QBfPxSOPiKkE\"\n",
    "    updater = Updater(TOKEN, use_context=True)\n",
    "    dp = updater.dispatcher\n",
    "\n",
    "    # Add the /start command handler\n",
    "    dp.add_handler(CommandHandler(\"start\", start))\n",
    "\n",
    "    # Start the bot\n",
    "    updater.start_polling()\n",
    "    updater.idle()\n",
    "\n",
    "if __name__ == \"__main__\":\n",
    "    main()"
   ]
  },
  {
   "cell_type": "code",
   "execution_count": 11,
   "id": "bfb1c270",
   "metadata": {},
   "outputs": [
    {
     "ename": "TypeError",
     "evalue": "Updater.__init__() missing 1 required positional argument: 'update_queue'",
     "output_type": "error",
     "traceback": [
      "\u001b[1;31m---------------------------------------------------------------------------\u001b[0m",
      "\u001b[1;31mTypeError\u001b[0m                                 Traceback (most recent call last)",
      "Cell \u001b[1;32mIn[11], line 15\u001b[0m\n\u001b[0;32m     12\u001b[0m     updater\u001b[38;5;241m.\u001b[39midle()\n\u001b[0;32m     14\u001b[0m \u001b[38;5;28;01mif\u001b[39;00m \u001b[38;5;18m__name__\u001b[39m \u001b[38;5;241m==\u001b[39m \u001b[38;5;124m\"\u001b[39m\u001b[38;5;124m__main__\u001b[39m\u001b[38;5;124m\"\u001b[39m:\n\u001b[1;32m---> 15\u001b[0m     \u001b[43mmain\u001b[49m\u001b[43m(\u001b[49m\u001b[43m)\u001b[49m\n",
      "Cell \u001b[1;32mIn[11], line 4\u001b[0m, in \u001b[0;36mmain\u001b[1;34m()\u001b[0m\n\u001b[0;32m      1\u001b[0m \u001b[38;5;28;01mdef\u001b[39;00m \u001b[38;5;21mmain\u001b[39m():\n\u001b[0;32m      2\u001b[0m     \u001b[38;5;66;03m# Replace with your bot token\u001b[39;00m\n\u001b[0;32m      3\u001b[0m     TOKEN \u001b[38;5;241m=\u001b[39m \u001b[38;5;124m\"\u001b[39m\u001b[38;5;124m7574414681:AAGxV0wWdeYOxQlZptsRfu8QBfPxSOPiKkE\u001b[39m\u001b[38;5;124m\"\u001b[39m\n\u001b[1;32m----> 4\u001b[0m     updater \u001b[38;5;241m=\u001b[39m \u001b[43mUpdater\u001b[49m\u001b[43m(\u001b[49m\u001b[43mTOKEN\u001b[49m\u001b[43m)\u001b[49m\n\u001b[0;32m      5\u001b[0m     dp \u001b[38;5;241m=\u001b[39m updater\u001b[38;5;241m.\u001b[39mdispatcher\n\u001b[0;32m      7\u001b[0m     \u001b[38;5;66;03m# Add the /start command handler\u001b[39;00m\n",
      "\u001b[1;31mTypeError\u001b[0m: Updater.__init__() missing 1 required positional argument: 'update_queue'"
     ]
    }
   ],
   "source": [
    "def main():\n",
    "    # Replace with your bot token\n",
    "    TOKEN = \"7574414681:AAGxV0wWdeYOxQlZptsRfu8QBfPxSOPiKkE\"\n",
    "    updater = Updater(TOKEN)\n",
    "    dp = updater.dispatcher\n",
    "\n",
    "    # Add the /start command handler\n",
    "    dp.add_handler(CommandHandler(\"start\", start))\n",
    "\n",
    "    # Start the bot\n",
    "    updater.start_polling()\n",
    "    updater.idle()\n",
    "\n",
    "if __name__ == \"__main__\":\n",
    "    main()"
   ]
  },
  {
   "cell_type": "code",
   "execution_count": 12,
   "id": "d8e3918a",
   "metadata": {},
   "outputs": [
    {
     "ename": "RuntimeError",
     "evalue": "Cannot close a running event loop",
     "output_type": "error",
     "traceback": [
      "\u001b[1;31m---------------------------------------------------------------------------\u001b[0m",
      "\u001b[1;31mRuntimeError\u001b[0m                              Traceback (most recent call last)",
      "File \u001b[1;32m~\\anaconda3\\lib\\site-packages\\telegram\\ext\\_application.py:1063\u001b[0m, in \u001b[0;36mApplication.__run\u001b[1;34m(self, updater_coroutine, stop_signals, close_loop)\u001b[0m\n\u001b[0;32m   1062\u001b[0m \u001b[38;5;28;01mtry\u001b[39;00m:\n\u001b[1;32m-> 1063\u001b[0m     \u001b[43mloop\u001b[49m\u001b[38;5;241;43m.\u001b[39;49m\u001b[43mrun_until_complete\u001b[49m\u001b[43m(\u001b[49m\u001b[38;5;28;43mself\u001b[39;49m\u001b[38;5;241;43m.\u001b[39;49m\u001b[43minitialize\u001b[49m\u001b[43m(\u001b[49m\u001b[43m)\u001b[49m\u001b[43m)\u001b[49m\n\u001b[0;32m   1064\u001b[0m     \u001b[38;5;28;01mif\u001b[39;00m \u001b[38;5;28mself\u001b[39m\u001b[38;5;241m.\u001b[39mpost_init:\n",
      "File \u001b[1;32m~\\anaconda3\\lib\\asyncio\\base_events.py:625\u001b[0m, in \u001b[0;36mBaseEventLoop.run_until_complete\u001b[1;34m(self, future)\u001b[0m\n\u001b[0;32m    624\u001b[0m \u001b[38;5;28mself\u001b[39m\u001b[38;5;241m.\u001b[39m_check_closed()\n\u001b[1;32m--> 625\u001b[0m \u001b[38;5;28;43mself\u001b[39;49m\u001b[38;5;241;43m.\u001b[39;49m\u001b[43m_check_running\u001b[49m\u001b[43m(\u001b[49m\u001b[43m)\u001b[49m\n\u001b[0;32m    627\u001b[0m new_task \u001b[38;5;241m=\u001b[39m \u001b[38;5;129;01mnot\u001b[39;00m futures\u001b[38;5;241m.\u001b[39misfuture(future)\n",
      "File \u001b[1;32m~\\anaconda3\\lib\\asyncio\\base_events.py:584\u001b[0m, in \u001b[0;36mBaseEventLoop._check_running\u001b[1;34m(self)\u001b[0m\n\u001b[0;32m    583\u001b[0m \u001b[38;5;28;01mif\u001b[39;00m \u001b[38;5;28mself\u001b[39m\u001b[38;5;241m.\u001b[39mis_running():\n\u001b[1;32m--> 584\u001b[0m     \u001b[38;5;28;01mraise\u001b[39;00m \u001b[38;5;167;01mRuntimeError\u001b[39;00m(\u001b[38;5;124m'\u001b[39m\u001b[38;5;124mThis event loop is already running\u001b[39m\u001b[38;5;124m'\u001b[39m)\n\u001b[0;32m    585\u001b[0m \u001b[38;5;28;01mif\u001b[39;00m events\u001b[38;5;241m.\u001b[39m_get_running_loop() \u001b[38;5;129;01mis\u001b[39;00m \u001b[38;5;129;01mnot\u001b[39;00m \u001b[38;5;28;01mNone\u001b[39;00m:\n",
      "\u001b[1;31mRuntimeError\u001b[0m: This event loop is already running",
      "\nDuring handling of the above exception, another exception occurred:\n",
      "\u001b[1;31mRuntimeError\u001b[0m                              Traceback (most recent call last)",
      "File \u001b[1;32m~\\anaconda3\\lib\\site-packages\\telegram\\ext\\_application.py:1088\u001b[0m, in \u001b[0;36mApplication.__run\u001b[1;34m(self, updater_coroutine, stop_signals, close_loop)\u001b[0m\n\u001b[0;32m   1087\u001b[0m         loop\u001b[38;5;241m.\u001b[39mrun_until_complete(\u001b[38;5;28mself\u001b[39m\u001b[38;5;241m.\u001b[39mpost_stop(\u001b[38;5;28mself\u001b[39m))\n\u001b[1;32m-> 1088\u001b[0m \u001b[43mloop\u001b[49m\u001b[38;5;241;43m.\u001b[39;49m\u001b[43mrun_until_complete\u001b[49m\u001b[43m(\u001b[49m\u001b[38;5;28;43mself\u001b[39;49m\u001b[38;5;241;43m.\u001b[39;49m\u001b[43mshutdown\u001b[49m\u001b[43m(\u001b[49m\u001b[43m)\u001b[49m\u001b[43m)\u001b[49m\n\u001b[0;32m   1089\u001b[0m \u001b[38;5;28;01mif\u001b[39;00m \u001b[38;5;28mself\u001b[39m\u001b[38;5;241m.\u001b[39mpost_shutdown:\n",
      "File \u001b[1;32m~\\anaconda3\\lib\\asyncio\\base_events.py:625\u001b[0m, in \u001b[0;36mBaseEventLoop.run_until_complete\u001b[1;34m(self, future)\u001b[0m\n\u001b[0;32m    624\u001b[0m \u001b[38;5;28mself\u001b[39m\u001b[38;5;241m.\u001b[39m_check_closed()\n\u001b[1;32m--> 625\u001b[0m \u001b[38;5;28;43mself\u001b[39;49m\u001b[38;5;241;43m.\u001b[39;49m\u001b[43m_check_running\u001b[49m\u001b[43m(\u001b[49m\u001b[43m)\u001b[49m\n\u001b[0;32m    627\u001b[0m new_task \u001b[38;5;241m=\u001b[39m \u001b[38;5;129;01mnot\u001b[39;00m futures\u001b[38;5;241m.\u001b[39misfuture(future)\n",
      "File \u001b[1;32m~\\anaconda3\\lib\\asyncio\\base_events.py:584\u001b[0m, in \u001b[0;36mBaseEventLoop._check_running\u001b[1;34m(self)\u001b[0m\n\u001b[0;32m    583\u001b[0m \u001b[38;5;28;01mif\u001b[39;00m \u001b[38;5;28mself\u001b[39m\u001b[38;5;241m.\u001b[39mis_running():\n\u001b[1;32m--> 584\u001b[0m     \u001b[38;5;28;01mraise\u001b[39;00m \u001b[38;5;167;01mRuntimeError\u001b[39;00m(\u001b[38;5;124m'\u001b[39m\u001b[38;5;124mThis event loop is already running\u001b[39m\u001b[38;5;124m'\u001b[39m)\n\u001b[0;32m    585\u001b[0m \u001b[38;5;28;01mif\u001b[39;00m events\u001b[38;5;241m.\u001b[39m_get_running_loop() \u001b[38;5;129;01mis\u001b[39;00m \u001b[38;5;129;01mnot\u001b[39;00m \u001b[38;5;28;01mNone\u001b[39;00m:\n",
      "\u001b[1;31mRuntimeError\u001b[0m: This event loop is already running",
      "\nDuring handling of the above exception, another exception occurred:\n",
      "\u001b[1;31mRuntimeError\u001b[0m                              Traceback (most recent call last)",
      "Cell \u001b[1;32mIn[12], line 33\u001b[0m\n\u001b[0;32m     30\u001b[0m     application\u001b[38;5;241m.\u001b[39mrun_polling()\n\u001b[0;32m     32\u001b[0m \u001b[38;5;28;01mif\u001b[39;00m \u001b[38;5;18m__name__\u001b[39m \u001b[38;5;241m==\u001b[39m \u001b[38;5;124m\"\u001b[39m\u001b[38;5;124m__main__\u001b[39m\u001b[38;5;124m\"\u001b[39m:\n\u001b[1;32m---> 33\u001b[0m     \u001b[43mmain\u001b[49m\u001b[43m(\u001b[49m\u001b[43m)\u001b[49m\n",
      "Cell \u001b[1;32mIn[12], line 30\u001b[0m, in \u001b[0;36mmain\u001b[1;34m()\u001b[0m\n\u001b[0;32m     27\u001b[0m application\u001b[38;5;241m.\u001b[39madd_handler(CommandHandler(\u001b[38;5;124m\"\u001b[39m\u001b[38;5;124mstart\u001b[39m\u001b[38;5;124m\"\u001b[39m, start))\n\u001b[0;32m     29\u001b[0m \u001b[38;5;66;03m# Run the bot\u001b[39;00m\n\u001b[1;32m---> 30\u001b[0m \u001b[43mapplication\u001b[49m\u001b[38;5;241;43m.\u001b[39;49m\u001b[43mrun_polling\u001b[49m\u001b[43m(\u001b[49m\u001b[43m)\u001b[49m\n",
      "File \u001b[1;32m~\\anaconda3\\lib\\site-packages\\telegram\\ext\\_application.py:865\u001b[0m, in \u001b[0;36mApplication.run_polling\u001b[1;34m(self, poll_interval, timeout, bootstrap_retries, read_timeout, write_timeout, connect_timeout, pool_timeout, allowed_updates, drop_pending_updates, close_loop, stop_signals)\u001b[0m\n\u001b[0;32m    862\u001b[0m \u001b[38;5;28;01mdef\u001b[39;00m \u001b[38;5;21merror_callback\u001b[39m(exc: TelegramError) \u001b[38;5;241m-\u001b[39m\u001b[38;5;241m>\u001b[39m \u001b[38;5;28;01mNone\u001b[39;00m:\n\u001b[0;32m    863\u001b[0m     \u001b[38;5;28mself\u001b[39m\u001b[38;5;241m.\u001b[39mcreate_task(\u001b[38;5;28mself\u001b[39m\u001b[38;5;241m.\u001b[39mprocess_error(error\u001b[38;5;241m=\u001b[39mexc, update\u001b[38;5;241m=\u001b[39m\u001b[38;5;28;01mNone\u001b[39;00m))\n\u001b[1;32m--> 865\u001b[0m \u001b[38;5;28;01mreturn\u001b[39;00m \u001b[38;5;28;43mself\u001b[39;49m\u001b[38;5;241;43m.\u001b[39;49m\u001b[43m__run\u001b[49m\u001b[43m(\u001b[49m\n\u001b[0;32m    866\u001b[0m \u001b[43m    \u001b[49m\u001b[43mupdater_coroutine\u001b[49m\u001b[38;5;241;43m=\u001b[39;49m\u001b[38;5;28;43mself\u001b[39;49m\u001b[38;5;241;43m.\u001b[39;49m\u001b[43mupdater\u001b[49m\u001b[38;5;241;43m.\u001b[39;49m\u001b[43mstart_polling\u001b[49m\u001b[43m(\u001b[49m\n\u001b[0;32m    867\u001b[0m \u001b[43m        \u001b[49m\u001b[43mpoll_interval\u001b[49m\u001b[38;5;241;43m=\u001b[39;49m\u001b[43mpoll_interval\u001b[49m\u001b[43m,\u001b[49m\n\u001b[0;32m    868\u001b[0m \u001b[43m        \u001b[49m\u001b[43mtimeout\u001b[49m\u001b[38;5;241;43m=\u001b[39;49m\u001b[43mtimeout\u001b[49m\u001b[43m,\u001b[49m\n\u001b[0;32m    869\u001b[0m \u001b[43m        \u001b[49m\u001b[43mbootstrap_retries\u001b[49m\u001b[38;5;241;43m=\u001b[39;49m\u001b[43mbootstrap_retries\u001b[49m\u001b[43m,\u001b[49m\n\u001b[0;32m    870\u001b[0m \u001b[43m        \u001b[49m\u001b[43mread_timeout\u001b[49m\u001b[38;5;241;43m=\u001b[39;49m\u001b[43mread_timeout\u001b[49m\u001b[43m,\u001b[49m\n\u001b[0;32m    871\u001b[0m \u001b[43m        \u001b[49m\u001b[43mwrite_timeout\u001b[49m\u001b[38;5;241;43m=\u001b[39;49m\u001b[43mwrite_timeout\u001b[49m\u001b[43m,\u001b[49m\n\u001b[0;32m    872\u001b[0m \u001b[43m        \u001b[49m\u001b[43mconnect_timeout\u001b[49m\u001b[38;5;241;43m=\u001b[39;49m\u001b[43mconnect_timeout\u001b[49m\u001b[43m,\u001b[49m\n\u001b[0;32m    873\u001b[0m \u001b[43m        \u001b[49m\u001b[43mpool_timeout\u001b[49m\u001b[38;5;241;43m=\u001b[39;49m\u001b[43mpool_timeout\u001b[49m\u001b[43m,\u001b[49m\n\u001b[0;32m    874\u001b[0m \u001b[43m        \u001b[49m\u001b[43mallowed_updates\u001b[49m\u001b[38;5;241;43m=\u001b[39;49m\u001b[43mallowed_updates\u001b[49m\u001b[43m,\u001b[49m\n\u001b[0;32m    875\u001b[0m \u001b[43m        \u001b[49m\u001b[43mdrop_pending_updates\u001b[49m\u001b[38;5;241;43m=\u001b[39;49m\u001b[43mdrop_pending_updates\u001b[49m\u001b[43m,\u001b[49m\n\u001b[0;32m    876\u001b[0m \u001b[43m        \u001b[49m\u001b[43merror_callback\u001b[49m\u001b[38;5;241;43m=\u001b[39;49m\u001b[43merror_callback\u001b[49m\u001b[43m,\u001b[49m\u001b[43m  \u001b[49m\u001b[38;5;66;43;03m# if there is an error in fetching updates\u001b[39;49;00m\n\u001b[0;32m    877\u001b[0m \u001b[43m    \u001b[49m\u001b[43m)\u001b[49m\u001b[43m,\u001b[49m\n\u001b[0;32m    878\u001b[0m \u001b[43m    \u001b[49m\u001b[43mclose_loop\u001b[49m\u001b[38;5;241;43m=\u001b[39;49m\u001b[43mclose_loop\u001b[49m\u001b[43m,\u001b[49m\n\u001b[0;32m    879\u001b[0m \u001b[43m    \u001b[49m\u001b[43mstop_signals\u001b[49m\u001b[38;5;241;43m=\u001b[39;49m\u001b[43mstop_signals\u001b[49m\u001b[43m,\u001b[49m\n\u001b[0;32m    880\u001b[0m \u001b[43m\u001b[49m\u001b[43m)\u001b[49m\n",
      "File \u001b[1;32m~\\anaconda3\\lib\\site-packages\\telegram\\ext\\_application.py:1093\u001b[0m, in \u001b[0;36mApplication.__run\u001b[1;34m(self, updater_coroutine, stop_signals, close_loop)\u001b[0m\n\u001b[0;32m   1091\u001b[0m \u001b[38;5;28;01mfinally\u001b[39;00m:\n\u001b[0;32m   1092\u001b[0m     \u001b[38;5;28;01mif\u001b[39;00m close_loop:\n\u001b[1;32m-> 1093\u001b[0m         \u001b[43mloop\u001b[49m\u001b[38;5;241;43m.\u001b[39;49m\u001b[43mclose\u001b[49m\u001b[43m(\u001b[49m\u001b[43m)\u001b[49m\n",
      "File \u001b[1;32m~\\anaconda3\\lib\\asyncio\\selector_events.py:84\u001b[0m, in \u001b[0;36mBaseSelectorEventLoop.close\u001b[1;34m(self)\u001b[0m\n\u001b[0;32m     82\u001b[0m \u001b[38;5;28;01mdef\u001b[39;00m \u001b[38;5;21mclose\u001b[39m(\u001b[38;5;28mself\u001b[39m):\n\u001b[0;32m     83\u001b[0m     \u001b[38;5;28;01mif\u001b[39;00m \u001b[38;5;28mself\u001b[39m\u001b[38;5;241m.\u001b[39mis_running():\n\u001b[1;32m---> 84\u001b[0m         \u001b[38;5;28;01mraise\u001b[39;00m \u001b[38;5;167;01mRuntimeError\u001b[39;00m(\u001b[38;5;124m\"\u001b[39m\u001b[38;5;124mCannot close a running event loop\u001b[39m\u001b[38;5;124m\"\u001b[39m)\n\u001b[0;32m     85\u001b[0m     \u001b[38;5;28;01mif\u001b[39;00m \u001b[38;5;28mself\u001b[39m\u001b[38;5;241m.\u001b[39mis_closed():\n\u001b[0;32m     86\u001b[0m         \u001b[38;5;28;01mreturn\u001b[39;00m\n",
      "\u001b[1;31mRuntimeError\u001b[0m: Cannot close a running event loop"
     ]
    }
   ],
   "source": [
    "from telegram import InlineKeyboardButton, InlineKeyboardMarkup, Update\n",
    "from telegram.ext import Application, CommandHandler, ContextTypes\n",
    "\n",
    "# Define the /start command handler\n",
    "async def start(update: Update, context: ContextTypes.DEFAULT_TYPE):\n",
    "    # Define the button\n",
    "    keyboard = [\n",
    "        [InlineKeyboardButton(\"Launch App\", url=\"https://example.com/app\")]\n",
    "    ]\n",
    "    reply_markup = InlineKeyboardMarkup(keyboard)\n",
    "\n",
    "    # Send the message with the button\n",
    "    await update.message.reply_text(\n",
    "        \"Welcome to our bot! Click the button below to launch the app:\",\n",
    "        reply_markup=reply_markup\n",
    "    )\n",
    "\n",
    "# Main function to start the bot\n",
    "def main():\n",
    "    # Replace with your bot token\n",
    "    TOKEN = \"7574414681:AAGxV0wWdeYOxQlZptsRfu8QBfPxSOPiKkE\"\n",
    "\n",
    "    # Create the application\n",
    "    application = Application.builder().token(TOKEN).build()\n",
    "\n",
    "    # Add the /start command handler\n",
    "    application.add_handler(CommandHandler(\"start\", start))\n",
    "\n",
    "    # Run the bot\n",
    "    application.run_polling()\n",
    "\n",
    "if __name__ == \"__main__\":\n",
    "    main()\n"
   ]
  },
  {
   "cell_type": "code",
   "execution_count": 13,
   "id": "6c6f609f",
   "metadata": {},
   "outputs": [
    {
     "ename": "TypeError",
     "evalue": "Updater.__init__() got an unexpected keyword argument 'use_context'",
     "output_type": "error",
     "traceback": [
      "\u001b[1;31m---------------------------------------------------------------------------\u001b[0m",
      "\u001b[1;31mTypeError\u001b[0m                                 Traceback (most recent call last)",
      "Cell \u001b[1;32mIn[13], line 33\u001b[0m\n\u001b[0;32m     30\u001b[0m     updater\u001b[38;5;241m.\u001b[39midle()\n\u001b[0;32m     32\u001b[0m \u001b[38;5;28;01mif\u001b[39;00m \u001b[38;5;18m__name__\u001b[39m \u001b[38;5;241m==\u001b[39m \u001b[38;5;124m\"\u001b[39m\u001b[38;5;124m__main__\u001b[39m\u001b[38;5;124m\"\u001b[39m:\n\u001b[1;32m---> 33\u001b[0m     \u001b[43mmain\u001b[49m\u001b[43m(\u001b[49m\u001b[43m)\u001b[49m\n",
      "Cell \u001b[1;32mIn[13], line 22\u001b[0m, in \u001b[0;36mmain\u001b[1;34m()\u001b[0m\n\u001b[0;32m     19\u001b[0m \u001b[38;5;28;01mdef\u001b[39;00m \u001b[38;5;21mmain\u001b[39m():\n\u001b[0;32m     20\u001b[0m     \u001b[38;5;66;03m# Replace with your bot token\u001b[39;00m\n\u001b[0;32m     21\u001b[0m     TOKEN \u001b[38;5;241m=\u001b[39m \u001b[38;5;124m\"\u001b[39m\u001b[38;5;124m7574414681:AAGxV0wWdeYOxQlZptsRfu8QBfPxSOPiKkE\u001b[39m\u001b[38;5;124m\"\u001b[39m\n\u001b[1;32m---> 22\u001b[0m     updater \u001b[38;5;241m=\u001b[39m \u001b[43mUpdater\u001b[49m\u001b[43m(\u001b[49m\u001b[43mTOKEN\u001b[49m\u001b[43m,\u001b[49m\u001b[43m \u001b[49m\u001b[43muse_context\u001b[49m\u001b[38;5;241;43m=\u001b[39;49m\u001b[38;5;28;43;01mTrue\u001b[39;49;00m\u001b[43m)\u001b[49m\n\u001b[0;32m     23\u001b[0m     dp \u001b[38;5;241m=\u001b[39m updater\u001b[38;5;241m.\u001b[39mdispatcher\n\u001b[0;32m     25\u001b[0m     \u001b[38;5;66;03m# Add the /start command handler\u001b[39;00m\n",
      "\u001b[1;31mTypeError\u001b[0m: Updater.__init__() got an unexpected keyword argument 'use_context'"
     ]
    }
   ],
   "source": [
    "from telegram import InlineKeyboardButton, InlineKeyboardMarkup\n",
    "from telegram.ext import Updater, CommandHandler\n",
    "\n",
    "# Define the /start command handler\n",
    "def start(update, context):\n",
    "    # Define the button\n",
    "    keyboard = [\n",
    "        [InlineKeyboardButton(\"Launch App\", url=\"https://trade.griffy.app\")]\n",
    "    ]\n",
    "    reply_markup = InlineKeyboardMarkup(keyboard)\n",
    "\n",
    "    # Send the message with the button\n",
    "    update.message.reply_text(\n",
    "        \"Welcome to our bot! Click the button below to launch the app , blah blah blah :\",\n",
    "        reply_markup=reply_markup\n",
    "    )\n",
    "\n",
    "# Main function to start the bot\n",
    "def main():\n",
    "    # Replace with your bot token\n",
    "    TOKEN = \"7574414681:AAGxV0wWdeYOxQlZptsRfu8QBfPxSOPiKkE\"\n",
    "    updater = Updater(TOKEN, use_context=True)\n",
    "    dp = updater.dispatcher\n",
    "\n",
    "    # Add the /start command handler\n",
    "    dp.add_handler(CommandHandler(\"start\", start))\n",
    "\n",
    "    # Start the bot\n",
    "    updater.start_polling()\n",
    "    updater.idle()\n",
    "\n",
    "if __name__ == \"__main__\":\n",
    "    main()\n"
   ]
  },
  {
   "cell_type": "code",
   "execution_count": null,
   "id": "41c55327",
   "metadata": {},
   "outputs": [],
   "source": [
    "from telegram import InlineKeyboardButton, InlineKeyboardMarkup\n",
    "from telegram.ext import Updater, CommandHandler\n",
    "\n",
    "# Define the /start command handler\n",
    "def start(update, context):\n",
    "    # Define the button\n",
    "    keyboard = [\n",
    "        [InlineKeyboardButton(\"Launch App\", url=\"https://trade.griffy.app\")]\n",
    "    ]\n",
    "    reply_markup = InlineKeyboardMarkup(keyboard)\n",
    "\n",
    "    # Send the message with the button\n",
    "    update.message.reply_text(\n",
    "        \"Welcome to our bot! Click the button below to launch the app, blah blah blah:\",\n",
    "        reply_markup=reply_markup\n",
    "    )\n",
    "\n",
    "# Main function to start the bot\n",
    "def main():\n",
    "    # Replace with your bot token\n",
    "    TOKEN = \"7574414681:AAGxV0wWdeYOxQlZptsRfu8QBfPxSOPiKkE\"\n",
    "    updater = Updater(TOKEN, use_context=True)\n",
    "    dp = updater.dispatcher\n",
    "\n",
    "    # Add the /start command handler\n",
    "    dp.add_handler(CommandHandler(\"start\", start))\n",
    "\n",
    "    # Start the bot\n",
    "    updater.start_polling()\n",
    "    updater.idle()\n",
    "\n",
    "if __name__ == \"__main__\":\n",
    "    main()\n"
   ]
  }
 ],
 "metadata": {
  "kernelspec": {
   "display_name": "Python 3 (ipykernel)",
   "language": "python",
   "name": "python3"
  },
  "language_info": {
   "codemirror_mode": {
    "name": "ipython",
    "version": 3
   },
   "file_extension": ".py",
   "mimetype": "text/x-python",
   "name": "python",
   "nbconvert_exporter": "python",
   "pygments_lexer": "ipython3",
   "version": "3.10.9"
  }
 },
 "nbformat": 4,
 "nbformat_minor": 5
}
